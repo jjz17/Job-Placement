{
 "cells": [
  {
   "cell_type": "code",
   "execution_count": 10,
   "metadata": {},
   "outputs": [],
   "source": [
    "\n",
    "import copy\n",
    "import matplotlib.pyplot as plt\n",
    "import numpy as np\n",
    "import pandas as pd\n",
    "import tqdm\n",
    "from sklearn.metrics import roc_curve\n",
    "from sklearn.model_selection import StratifiedKFold, train_test_split, GridSearchCV\n",
    "from sklearn.preprocessing import LabelEncoder\n",
    "from skorch import NeuralNetClassifier\n",
    "import random"
   ]
  },
  {
   "cell_type": "code",
   "execution_count": 11,
   "metadata": {},
   "outputs": [],
   "source": [
    "\n",
    "import torch\n",
    "import torch.nn as nn\n",
    "import torch.optim as optim"
   ]
  },
  {
   "cell_type": "code",
   "execution_count": 12,
   "metadata": {},
   "outputs": [],
   "source": [
    "data = pd.read_csv(\"encoded_data.csv\")\n",
    "# Separate features from outcome\n",
    "X = data.drop(columns=\"status\")\n",
    "y = data[\"status\"]\n",
    "\n",
    "# Convert to 2D PyTorch tensors\n",
    "X = torch.tensor(X.values, dtype=torch.float32)\n",
    "y = torch.tensor(y, dtype=torch.float32).reshape(-1, 1)\n"
   ]
  },
  {
   "cell_type": "code",
   "execution_count": 13,
   "metadata": {},
   "outputs": [],
   "source": [
    "def set_seed(seed: int = 42) -> None:\n",
    "    np.random.seed(seed)\n",
    "    random.seed(seed)\n",
    "    torch.manual_seed(seed)\n",
    "    torch.cuda.manual_seed(seed)\n",
    "    # When running on the CuDNN backend, two further options must be set\n",
    "    torch.backends.cudnn.deterministic = True\n",
    "    torch.backends.cudnn.benchmark = False\n",
    "    # Set a fixed value for the hash seed\n",
    "    # os.environ[\"PYTHONHASHSEED\"] = str(seed)\n",
    "    print(f\"Random seed set as {seed}\")\n"
   ]
  },
  {
   "cell_type": "code",
   "execution_count": 24,
   "metadata": {},
   "outputs": [],
   "source": [
    "# Define models\n",
    "class Wide(nn.Module):\n",
    "    \"\"\"\n",
    "    Single, wide hidden layer\n",
    "    \"\"\"\n",
    "    def __init__(self):\n",
    "        super().__init__()\n",
    "        self.hidden = nn.Linear(16, 64)\n",
    "        self.relu = nn.ReLU()\n",
    "        self.output = nn.Linear(64, 1)\n",
    "        self.sigmoid = nn.Sigmoid()\n",
    " \n",
    "    def forward(self, x):\n",
    "        x = self.relu(self.hidden(x))\n",
    "        x = self.sigmoid(self.output(x))\n",
    "        return x\n",
    " \n",
    "class DeepSimple(nn.Module):\n",
    "    \"\"\"\n",
    "    3 hidden, linear layers\n",
    "    \"\"\"\n",
    "    def __init__(self, n_neurons: int=16):\n",
    "        super().__init__()\n",
    "        self.layer1 = nn.Linear(16, n_neurons)\n",
    "        self.act1 = nn.ReLU()\n",
    "        self.layer2 = nn.Linear(n_neurons, n_neurons)\n",
    "        self.act2 = nn.ReLU()\n",
    "        self.layer3 = nn.Linear(n_neurons, n_neurons)\n",
    "        self.act3 = nn.ReLU()\n",
    "        self.output = nn.Linear(n_neurons, 1)\n",
    "        self.sigmoid = nn.Sigmoid()\n",
    " \n",
    "    def forward(self, x):\n",
    "        x = self.act1(self.layer1(x))\n",
    "        x = self.act2(self.layer2(x))\n",
    "        x = self.act3(self.layer3(x))\n",
    "        x = self.sigmoid(self.output(x))\n",
    "        return x\n",
    "    \n",
    "class DeepComplex(nn.Module):\n",
    "    def __init__(self):\n",
    "        super().__init__()\n",
    "        self.layer1 = nn.Linear(16, 64)\n",
    "        self.act1 = nn.ReLU()\n",
    "        self.dropout = nn.Dropout()\n",
    "        self.layer2 = nn.Linear(64, 32)\n",
    "        self.act2 = nn.ReLU()\n",
    "        self.layer3 = nn.Linear(32, 16)\n",
    "        self.act3 = nn.ReLU()\n",
    "        self.output = nn.Linear(16, 1)\n",
    "        self.sigmoid = nn.Sigmoid()\n",
    " \n",
    "    def forward(self, x):\n",
    "        x = self.act1(self.layer1(x))\n",
    "        x = self.dropout(x)\n",
    "        x = self.act2(self.layer2(x))\n",
    "        x = self.act3(self.layer3(x))\n",
    "        x = self.sigmoid(self.output(x))\n",
    "        return x"
   ]
  },
  {
   "cell_type": "code",
   "execution_count": 15,
   "metadata": {},
   "outputs": [
    {
     "name": "stdout",
     "output_type": "stream",
     "text": [
      "1153\n",
      "833\n",
      "3713\n"
     ]
    }
   ],
   "source": [
    "# Compare model sizes\n",
    "model1 = Wide()\n",
    "model2 = DeepSimple()\n",
    "model3 = DeepComplex()\n",
    "print(sum([x.reshape(-1).shape[0] for x in model1.parameters()]))  # 11161\n",
    "print(sum([x.reshape(-1).shape[0] for x in model2.parameters()]))  # 11041\n",
    "print(sum([x.reshape(-1).shape[0] for x in model3.parameters()]))  # "
   ]
  },
  {
   "cell_type": "code",
   "execution_count": 27,
   "metadata": {},
   "outputs": [],
   "source": [
    "# Helper function to train one model\n",
    "def model_train(model, X_train, y_train, X_val, y_val, optimizer=None, n_epochs=None, batch_size=None):\n",
    "    # loss function and optimizer\n",
    "    loss_fn = nn.BCELoss()  # binary cross entropy\n",
    "\n",
    "    if not optimizer:\n",
    "        optimizer = optim.Adam(model.parameters(), lr=0.0001)\n",
    " \n",
    "    if not n_epochs:\n",
    "        n_epochs = 300   # number of epochs to run\n",
    "\n",
    "    if not batch_size:\n",
    "        batch_size = 10  # size of each batch\n",
    "        \n",
    "    batch_start = torch.arange(0, len(X_train), batch_size)\n",
    " \n",
    "    # Hold the best model\n",
    "    best_acc = - np.inf   # init to negative infinity\n",
    "    best_weights = None\n",
    " \n",
    "    for epoch in range(n_epochs):\n",
    "        model.train()\n",
    "        with tqdm.tqdm(batch_start, unit=\"batch\", mininterval=0, disable=True) as bar:\n",
    "            bar.set_description(f\"Epoch {epoch}\")\n",
    "            for start in bar:\n",
    "                # take a batch\n",
    "                X_batch = X_train[start:start+batch_size]\n",
    "                y_batch = y_train[start:start+batch_size]\n",
    "                # forward pass\n",
    "                y_pred = model(X_batch)\n",
    "                loss = loss_fn(y_pred, y_batch)\n",
    "                # backward pass\n",
    "                optimizer.zero_grad()\n",
    "                loss.backward()\n",
    "                # update weights\n",
    "                optimizer.step()\n",
    "                # print progress\n",
    "                acc = (y_pred.round() == y_batch).float().mean()\n",
    "                bar.set_postfix(\n",
    "                    loss=float(loss),\n",
    "                    acc=float(acc)\n",
    "                )\n",
    "        # evaluate accuracy at end of each epoch\n",
    "        model.eval()\n",
    "        y_pred = model(X_val)\n",
    "        acc = (y_pred.round() == y_val).float().mean()\n",
    "        acc = float(acc)\n",
    "        if acc > best_acc:\n",
    "            best_acc = acc\n",
    "            best_weights = copy.deepcopy(model.state_dict())\n",
    "    # restore model and return best accuracy\n",
    "    model.load_state_dict(best_weights)\n",
    "    return best_acc"
   ]
  },
  {
   "cell_type": "code",
   "execution_count": 17,
   "metadata": {},
   "outputs": [],
   "source": [
    "# train-test split: Hold out the test set for final model evaluation\n",
    "X_train, X_test, y_train, y_test = train_test_split(X, y, train_size=0.7, shuffle=True, random_state=0)"
   ]
  },
  {
   "cell_type": "code",
   "execution_count": 18,
   "metadata": {},
   "outputs": [
    {
     "name": "stdout",
     "output_type": "stream",
     "text": [
      "Random seed set as 42\n",
      "Accuracy (wide): 0.90\n",
      "Accuracy (wide): 0.87\n",
      "Accuracy (wide): 0.93\n",
      "Accuracy (wide): 0.83\n",
      "Accuracy (wide): 0.90\n",
      "Random seed set as 42\n",
      "Accuracy (deep simple): 0.87\n",
      "Accuracy (deep simple): 0.87\n",
      "Accuracy (deep simple): 0.87\n",
      "Accuracy (deep simple): 0.90\n",
      "Accuracy (deep simple): 0.97\n",
      "Random seed set as 42\n",
      "Accuracy (deep complex): 0.83\n",
      "Accuracy (deep complex): 0.87\n",
      "Accuracy (deep complex): 0.90\n",
      "Accuracy (deep complex): 0.77\n",
      "Accuracy (deep complex): 1.00\n",
      "Wide: 88.67% (+/- 3.40%)\n",
      "Deep Simple: 89.33% (+/- 3.89%)\n",
      "Deep Complex: 87.33% (+/- 7.72%)\n"
     ]
    }
   ],
   "source": [
    "# define 5-fold cross validation test harness\n",
    "kfold = StratifiedKFold(n_splits=5, shuffle=True)\n",
    "\n",
    "cv_scores_wide = []\n",
    "set_seed()\n",
    "for train, test in kfold.split(X_train, y_train):\n",
    "    # create model, train, and get accuracy\n",
    "    model = Wide()\n",
    "    acc = model_train(model, X_train[train], y_train[train], X_train[test], y_train[test])\n",
    "    print(\"Accuracy (wide): %.2f\" % acc)\n",
    "    cv_scores_wide.append(acc)\n",
    "\n",
    "cv_scores_deep_simple = []\n",
    "set_seed()\n",
    "for train, test in kfold.split(X_train, y_train):\n",
    "    # create model, train, and get accuracy\n",
    "    model = DeepSimple()\n",
    "    acc = model_train(model, X_train[train], y_train[train], X_train[test], y_train[test])\n",
    "    print(\"Accuracy (deep simple): %.2f\" % acc)\n",
    "    cv_scores_deep_simple.append(acc)\n",
    "\n",
    "cv_scores_deep_complex = []\n",
    "set_seed()\n",
    "for train, test in kfold.split(X_train, y_train):\n",
    "    # create model, train, and get accuracy\n",
    "    model = DeepComplex()\n",
    "    acc = model_train(model, X_train[train], y_train[train], X_train[test], y_train[test])\n",
    "    print(\"Accuracy (deep complex): %.2f\" % acc)\n",
    "    cv_scores_deep_complex.append(acc)\n",
    " \n",
    "# evaluate the model\n",
    "wide_acc = np.mean(cv_scores_wide)\n",
    "wide_std = np.std(cv_scores_wide)\n",
    "deep_simple_acc = np.mean(cv_scores_deep_simple)\n",
    "deep_simple_std = np.std(cv_scores_deep_simple)\n",
    "deep_complex_acc = np.mean(cv_scores_deep_complex)\n",
    "deep_complex_std = np.std(cv_scores_deep_complex)\n",
    "print(\"Wide: %.2f%% (+/- %.2f%%)\" % (wide_acc*100, wide_std*100))\n",
    "print(\"Deep Simple: %.2f%% (+/- %.2f%%)\" % (deep_simple_acc*100, deep_simple_std*100))\n",
    "print(\"Deep Complex: %.2f%% (+/- %.2f%%)\" % (deep_complex_acc*100, deep_complex_std*100))"
   ]
  },
  {
   "cell_type": "code",
   "execution_count": null,
   "metadata": {},
   "outputs": [],
   "source": []
  },
  {
   "cell_type": "code",
   "execution_count": 21,
   "metadata": {},
   "outputs": [
    {
     "name": "stdout",
     "output_type": "stream",
     "text": [
      "Random seed set as 42\n",
      "Retrain a deep simple model\n",
      "Final model accuracy: 83.08%\n"
     ]
    },
    {
     "data": {
      "text/plain": [
       "DeepSimple(\n",
       "  (layer1): Linear(in_features=16, out_features=16, bias=True)\n",
       "  (act1): ReLU()\n",
       "  (layer2): Linear(in_features=16, out_features=16, bias=True)\n",
       "  (act2): ReLU()\n",
       "  (layer3): Linear(in_features=16, out_features=16, bias=True)\n",
       "  (act3): ReLU()\n",
       "  (output): Linear(in_features=16, out_features=1, bias=True)\n",
       "  (sigmoid): Sigmoid()\n",
       ")"
      ]
     },
     "execution_count": 21,
     "metadata": {},
     "output_type": "execute_result"
    }
   ],
   "source": [
    "# rebuild model with full set of training data\n",
    "set_seed()\n",
    "\n",
    "if wide_acc > deep_simple_acc and wide_acc > deep_complex_acc:\n",
    "    print(\"Retrain a wide model\")\n",
    "    model = Wide()\n",
    "elif deep_simple_acc > wide_acc and deep_simple_acc > deep_complex_acc:\n",
    "    print(\"Retrain a deep simple model\")\n",
    "    model = DeepSimple()\n",
    "else:\n",
    "    print(\"Retrain a deep complex model\")\n",
    "    model = DeepComplex()\n",
    "\n",
    "acc = model_train(model, X_train, y_train, X_test, y_test)\n",
    "print(f\"Final model accuracy: {acc*100:.2f}%\")\n",
    " \n",
    "model.eval()"
   ]
  },
  {
   "cell_type": "code",
   "execution_count": 20,
   "metadata": {},
   "outputs": [
    {
     "name": "stdout",
     "output_type": "stream",
     "text": [
      "[ 0.   67.    1.   70.    1.   65.    0.   88.    0.   71.96  0.    1.\n",
      "  0.    0.    1.    0.  ] -> [0.4618348] (expected [0.])\n",
      "[ 0.   79.    1.   76.    1.   65.6   0.   58.    0.   55.47  0.    0.\n",
      "  1.    0.    0.    1.  ] -> [0.9279746] (expected [1.])\n",
      "[ 0.   84.    0.   75.    0.   69.    1.   62.    0.   62.36  0.    0.\n",
      "  1.    0.    0.    1.  ] -> [0.9264522] (expected [1.])\n",
      "[ 0.   48.    1.   51.    1.   58.    1.   60.    0.   58.79  0.    1.\n",
      "  0.    1.    0.    0.  ] -> [0.42025056] (expected [0.])\n",
      "[ 1.   80.    0.   80.    0.   72.    1.   63.79  1.   66.04  0.    1.\n",
      "  0.    1.    0.    0.  ] -> [0.92029303] (expected [1.])\n"
     ]
    },
    {
     "data": {
      "image/png": "[encoded data removed]",
      "text/plain": [
       "<Figure size 640x480 with 1 Axes>"
      ]
     },
     "metadata": {},
     "output_type": "display_data"
    }
   ],
   "source": [
    "with torch.no_grad():\n",
    "    # Test out inference with 5 samples\n",
    "    for i in range(5):\n",
    "        y_pred = model(X_test[i:i+1])\n",
    "        print(f\"{X_test[i].numpy()} -> {y_pred[0].numpy()} (expected {y_test[i].numpy()})\")\n",
    " \n",
    "    # Plot the ROC curve\n",
    "    y_pred = model(X_test)\n",
    "    fpr, tpr, thresholds = roc_curve(y_test, y_pred)\n",
    "    plt.plot(fpr, tpr) # ROC curve = TPR vs FPR\n",
    "    plt.title(\"Receiver Operating Characteristics\")\n",
    "    plt.xlabel(\"False Positive Rate\")\n",
    "    plt.ylabel(\"True Positive Rate\")\n",
    "    plt.show()"
   ]
  },
  {
   "attachments": {},
   "cell_type": "markdown",
   "metadata": {},
   "source": [
    "# Tune Batch Size and # Epochs"
   ]
  },
  {
   "cell_type": "code",
   "execution_count": 22,
   "metadata": {},
   "outputs": [
    {
     "name": "stdout",
     "output_type": "stream",
     "text": [
      "Best: 0.869849 using {'batch_size': 10, 'max_epochs': 300}\n",
      "0.735198 (0.050749) with: {'batch_size': 10, 'max_epochs': 10}\n",
      "0.851069 (0.014201) with: {'batch_size': 10, 'max_epochs': 50}\n",
      "0.837180 (0.017565) with: {'batch_size': 10, 'max_epochs': 100}\n",
      "0.869849 (0.012357) with: {'batch_size': 10, 'max_epochs': 300}\n",
      "0.748891 (0.010013) with: {'batch_size': 20, 'max_epochs': 10}\n",
      "0.827921 (0.006070) with: {'batch_size': 20, 'max_epochs': 50}\n",
      "0.846635 (0.021966) with: {'batch_size': 20, 'max_epochs': 100}\n",
      "0.837180 (0.007165) with: {'batch_size': 20, 'max_epochs': 300}\n",
      "0.790558 (0.031052) with: {'batch_size': 40, 'max_epochs': 10}\n",
      "0.841745 (0.018459) with: {'batch_size': 40, 'max_epochs': 50}\n",
      "0.851265 (0.016541) with: {'batch_size': 40, 'max_epochs': 100}\n",
      "0.823292 (0.023324) with: {'batch_size': 40, 'max_epochs': 300}\n",
      "0.693075 (0.009712) with: {'batch_size': 60, 'max_epochs': 10}\n",
      "0.851265 (0.016541) with: {'batch_size': 60, 'max_epochs': 50}\n",
      "0.855895 (0.025784) with: {'batch_size': 60, 'max_epochs': 100}\n",
      "0.837311 (0.022977) with: {'batch_size': 60, 'max_epochs': 300}\n",
      "0.734807 (0.041370) with: {'batch_size': 80, 'max_epochs': 10}\n",
      "0.818597 (0.011403) with: {'batch_size': 80, 'max_epochs': 50}\n",
      "0.846701 (0.033384) with: {'batch_size': 80, 'max_epochs': 100}\n",
      "0.851265 (0.016541) with: {'batch_size': 80, 'max_epochs': 300}\n",
      "0.706964 (0.022763) with: {'batch_size': 100, 'max_epochs': 10}\n",
      "0.841810 (0.007654) with: {'batch_size': 100, 'max_epochs': 50}\n",
      "0.846701 (0.029279) with: {'batch_size': 100, 'max_epochs': 100}\n",
      "0.823292 (0.012578) with: {'batch_size': 100, 'max_epochs': 300}\n"
     ]
    }
   ],
   "source": [
    "# We will try to tune hyperparameters with the Deep Simple Model\n",
    "\n",
    "\n",
    "# create model with skorch\n",
    "model = NeuralNetClassifier(\n",
    "    DeepSimple,\n",
    "    criterion=nn.BCELoss,\n",
    "    optimizer=optim.Adam,\n",
    "    verbose=False\n",
    ")\n",
    "\n",
    "# define the grid search parameters\n",
    "param_grid = {\n",
    "    'batch_size': [10, 20, 40, 60, 80, 100],\n",
    "    'max_epochs': [10, 50, 100, 300]\n",
    "}\n",
    "grid = GridSearchCV(estimator=model, param_grid=param_grid, n_jobs=-1, cv=3)\n",
    "grid_result = grid.fit(X, y)\n",
    " \n",
    "# summarize results\n",
    "print(\"Best: %f using %s\" % (grid_result.best_score_, grid_result.best_params_))\n",
    "means = grid_result.cv_results_['mean_test_score']\n",
    "stds = grid_result.cv_results_['std_test_score']\n",
    "params = grid_result.cv_results_['params']\n",
    "for mean, stdev, param in zip(means, stds, params):\n",
    "    print(\"%f (%f) with: %r\" % (mean, stdev, param))"
   ]
  },
  {
   "attachments": {},
   "cell_type": "markdown",
   "metadata": {},
   "source": [
    "# Tune Training Optimization Algorithm"
   ]
  },
  {
   "cell_type": "code",
   "execution_count": 23,
   "metadata": {},
   "outputs": [
    {
     "name": "stdout",
     "output_type": "stream",
     "text": [
      "Best: 0.855829 using {'optimizer': <class 'torch.optim.adagrad.Adagrad'>}\n",
      "0.827986 (0.016569) with: {'optimizer': <class 'torch.optim.sgd.SGD'>}\n",
      "0.743936 (0.073056) with: {'optimizer': <class 'torch.optim.rmsprop.RMSprop'>}\n",
      "0.855829 (0.006138) with: {'optimizer': <class 'torch.optim.adagrad.Adagrad'>}\n",
      "0.702269 (0.014218) with: {'optimizer': <class 'torch.optim.adadelta.Adadelta'>}\n",
      "0.841875 (0.039755) with: {'optimizer': <class 'torch.optim.adam.Adam'>}\n",
      "0.804643 (0.022717) with: {'optimizer': <class 'torch.optim.adamax.Adamax'>}\n",
      "0.818727 (0.021808) with: {'optimizer': <class 'torch.optim.nadam.NAdam'>}\n"
     ]
    }
   ],
   "source": [
    "# create model with skorch\n",
    "model = NeuralNetClassifier(\n",
    "    DeepSimple,\n",
    "    criterion=nn.BCELoss,\n",
    "    max_epochs=300,\n",
    "    batch_size=10,\n",
    "    verbose=False\n",
    ")\n",
    "\n",
    "# define the grid search parameters\n",
    "param_grid = {\n",
    "    'optimizer': [optim.SGD, optim.RMSprop, optim.Adagrad, optim.Adadelta,\n",
    "                  optim.Adam, optim.Adamax, optim.NAdam],\n",
    "}\n",
    "grid = GridSearchCV(estimator=model, param_grid=param_grid, n_jobs=-1, cv=3)\n",
    "grid_result = grid.fit(X, y)\n",
    " \n",
    "# summarize results\n",
    "print(\"Best: %f using %s\" % (grid_result.best_score_, grid_result.best_params_))\n",
    "means = grid_result.cv_results_['mean_test_score']\n",
    "stds = grid_result.cv_results_['std_test_score']\n",
    "params = grid_result.cv_results_['params']\n",
    "for mean, stdev, param in zip(means, stds, params):\n",
    "    print(\"%f (%f) with: %r\" % (mean, stdev, param))"
   ]
  },
  {
   "attachments": {},
   "cell_type": "markdown",
   "metadata": {},
   "source": [
    "# Tune # of Neurons in Hidden Layers"
   ]
  },
  {
   "cell_type": "code",
   "execution_count": 26,
   "metadata": {},
   "outputs": [
    {
     "name": "stdout",
     "output_type": "stream",
     "text": [
      "Best: 0.846766 using {'module__n_neurons': 32}\n",
      "0.655516 (0.045586) with: {'module__n_neurons': 4}\n",
      "0.799948 (0.013838) with: {'module__n_neurons': 8}\n",
      "0.837311 (0.016454) with: {'module__n_neurons': 16}\n",
      "0.846766 (0.040268) with: {'module__n_neurons': 32}\n",
      "0.842071 (0.033949) with: {'module__n_neurons': 64}\n",
      "0.827921 (0.006070) with: {'module__n_neurons': 128}\n"
     ]
    }
   ],
   "source": [
    "# create model with skorch\n",
    "model = NeuralNetClassifier(\n",
    "    DeepSimple,\n",
    "    criterion=nn.BCELoss,\n",
    "    optimizer=optim.Adagrad,\n",
    "    max_epochs=300,\n",
    "    batch_size=10,\n",
    "    verbose=False\n",
    ")\n",
    " \n",
    "# define the grid search parameters\n",
    "param_grid = {\n",
    "    'module__n_neurons': [4, 8, 16, 32, 64, 128]\n",
    "}\n",
    "grid = GridSearchCV(estimator=model, param_grid=param_grid, n_jobs=-1, cv=3)\n",
    "grid_result = grid.fit(X, y)\n",
    " \n",
    "# summarize results\n",
    "print(\"Best: %f using %s\" % (grid_result.best_score_, grid_result.best_params_))\n",
    "means = grid_result.cv_results_['mean_test_score']\n",
    "stds = grid_result.cv_results_['std_test_score']\n",
    "params = grid_result.cv_results_['params']\n",
    "for mean, stdev, param in zip(means, stds, params):\n",
    "    print(\"%f (%f) with: %r\" % (mean, stdev, param))"
   ]
  },
  {
   "attachments": {},
   "cell_type": "markdown",
   "metadata": {},
   "source": [
    "# Final Model"
   ]
  },
  {
   "cell_type": "code",
   "execution_count": 32,
   "metadata": {},
   "outputs": [
    {
     "name": "stdout",
     "output_type": "stream",
     "text": [
      "Final model accuracy: 84.62%\n"
     ]
    },
    {
     "data": {
      "text/plain": [
       "DeepSimple(\n",
       "  (layer1): Linear(in_features=16, out_features=32, bias=True)\n",
       "  (act1): ReLU()\n",
       "  (layer2): Linear(in_features=32, out_features=32, bias=True)\n",
       "  (act2): ReLU()\n",
       "  (layer3): Linear(in_features=32, out_features=32, bias=True)\n",
       "  (act3): ReLU()\n",
       "  (output): Linear(in_features=32, out_features=1, bias=True)\n",
       "  (sigmoid): Sigmoid()\n",
       ")"
      ]
     },
     "execution_count": 32,
     "metadata": {},
     "output_type": "execute_result"
    }
   ],
   "source": [
    "model = DeepSimple(n_neurons=32)\n",
    "acc = model_train(model, X_train, y_train, X_test, y_test, optimizer=optim.Adagrad(model.parameters()), n_epochs=300, batch_size=10)\n",
    "print(f\"Final model accuracy: {acc*100:.2f}%\")\n",
    " \n",
    "model.eval()"
   ]
  },
  {
   "cell_type": "code",
   "execution_count": 33,
   "metadata": {},
   "outputs": [
    {
     "name": "stdout",
     "output_type": "stream",
     "text": [
      "[ 0.   67.    1.   70.    1.   65.    0.   88.    0.   71.96  0.    1.\n",
      "  0.    0.    1.    0.  ] -> [0.00576953] (expected [0.])\n",
      "[ 0.   79.    1.   76.    1.   65.6   0.   58.    0.   55.47  0.    0.\n",
      "  1.    0.    0.    1.  ] -> [0.99708146] (expected [1.])\n",
      "[ 0.   84.    0.   75.    0.   69.    1.   62.    0.   62.36  0.    0.\n",
      "  1.    0.    0.    1.  ] -> [0.9989717] (expected [1.])\n",
      "[ 0.   48.    1.   51.    1.   58.    1.   60.    0.   58.79  0.    1.\n",
      "  0.    1.    0.    0.  ] -> [0.025121] (expected [0.])\n",
      "[ 1.   80.    0.   80.    0.   72.    1.   63.79  1.   66.04  0.    1.\n",
      "  0.    1.    0.    0.  ] -> [0.9976769] (expected [1.])\n"
     ]
    },
    {
     "data": {
      "image/png": "[encoded data removed]",
      "text/plain": [
       "<Figure size 640x480 with 1 Axes>"
      ]
     },
     "metadata": {},
     "output_type": "display_data"
    }
   ],
   "source": [
    "with torch.no_grad():\n",
    "    # Test out inference with 5 samples\n",
    "    for i in range(5):\n",
    "        y_pred = model(X_test[i:i+1])\n",
    "        print(f\"{X_test[i].numpy()} -> {y_pred[0].numpy()} (expected {y_test[i].numpy()})\")\n",
    " \n",
    "    # Plot the ROC curve\n",
    "    y_pred = model(X_test)\n",
    "    fpr, tpr, thresholds = roc_curve(y_test, y_pred)\n",
    "    plt.plot(fpr, tpr) # ROC curve = TPR vs FPR\n",
    "    plt.title(\"Receiver Operating Characteristics\")\n",
    "    plt.xlabel(\"False Positive Rate\")\n",
    "    plt.ylabel(\"True Positive Rate\")\n",
    "    plt.show()"
   ]
  }
 ],
 "metadata": {
  "kernelspec": {
   "display_name": "base",
   "language": "python",
   "name": "python3"
  },
  "language_info": {
   "codemirror_mode": {
    "name": "ipython",
    "version": 3
   },
   "file_extension": ".py",
   "mimetype": "text/x-python",
   "name": "python",
   "nbconvert_exporter": "python",
   "pygments_lexer": "ipython3",
   "version": "3.7.11"
  },
  "orig_nbformat": 4,
  "vscode": {
   "interpreter": {
    "hash": "fa56ab3708cd3b998ef87f57af2a9e8ce5fcc945dc3d227a7e9bfb211d05ff6b"
   }
  }
 },
 "nbformat": 4,
 "nbformat_minor": 2
}
