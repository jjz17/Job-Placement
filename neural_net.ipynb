{
 "cells": [
  {
   "cell_type": "code",
   "execution_count": 41,
   "metadata": {},
   "outputs": [],
   "source": [
    "\n",
    "import copy\n",
    "import matplotlib.pyplot as plt\n",
    "import numpy as np\n",
    "import pandas as pd\n",
    "import tqdm\n",
    "from sklearn.metrics import roc_curve\n",
    "from sklearn.model_selection import StratifiedKFold, train_test_split\n",
    "from sklearn.preprocessing import LabelEncoder"
   ]
  },
  {
   "cell_type": "code",
   "execution_count": 42,
   "metadata": {},
   "outputs": [],
   "source": [
    "\n",
    "import torch\n",
    "import torch.nn as nn\n",
    "import torch.optim as optim"
   ]
  },
  {
   "cell_type": "code",
   "execution_count": 43,
   "metadata": {},
   "outputs": [],
   "source": [
    "data = pd.read_csv(\"encoded_data.csv\")\n",
    "# Separate features from outcome\n",
    "X = data.drop(columns=\"status\")\n",
    "y = data[\"status\"]\n",
    "\n",
    "# Convert to 2D PyTorch tensors\n",
    "X = torch.tensor(X.values, dtype=torch.float32)\n",
    "y = torch.tensor(y, dtype=torch.float32).reshape(-1, 1)\n"
   ]
  },
  {
   "cell_type": "code",
   "execution_count": 44,
   "metadata": {},
   "outputs": [],
   "source": [
    "# Define two models\n",
    "class Wide(nn.Module):\n",
    "    \"\"\"\n",
    "    Single, wide hidden layer\n",
    "    \"\"\"\n",
    "    def __init__(self):\n",
    "        super().__init__()\n",
    "        self.hidden = nn.Linear(16, 64)\n",
    "        self.relu = nn.ReLU()\n",
    "        self.output = nn.Linear(64, 1)\n",
    "        self.sigmoid = nn.Sigmoid()\n",
    " \n",
    "    def forward(self, x):\n",
    "        x = self.relu(self.hidden(x))\n",
    "        x = self.sigmoid(self.output(x))\n",
    "        return x\n",
    " \n",
    "class DeepSimple(nn.Module):\n",
    "    \"\"\"\n",
    "    3 hidden, linear layers\n",
    "    \"\"\"\n",
    "    def __init__(self):\n",
    "        super().__init__()\n",
    "        self.layer1 = nn.Linear(16, 16)\n",
    "        self.act1 = nn.ReLU()\n",
    "        self.layer2 = nn.Linear(16, 16)\n",
    "        self.act2 = nn.ReLU()\n",
    "        self.layer3 = nn.Linear(16, 16)\n",
    "        self.act3 = nn.ReLU()\n",
    "        self.output = nn.Linear(16, 1)\n",
    "        self.sigmoid = nn.Sigmoid()\n",
    " \n",
    "    def forward(self, x):\n",
    "        x = self.act1(self.layer1(x))\n",
    "        x = self.act2(self.layer2(x))\n",
    "        x = self.act3(self.layer3(x))\n",
    "        x = self.sigmoid(self.output(x))\n",
    "        return x\n",
    "    \n",
    "class DeepComplex(nn.Module):\n",
    "    def __init__(self):\n",
    "        super().__init__()\n",
    "        self.layer1 = nn.Linear(16, 64)\n",
    "        self.act1 = nn.ReLU()\n",
    "        self.dropout = nn.Dropout()\n",
    "        self.layer2 = nn.Linear(64, 32)\n",
    "        self.act2 = nn.ReLU()\n",
    "        self.layer3 = nn.Linear(32, 16)\n",
    "        self.act3 = nn.ReLU()\n",
    "        self.output = nn.Linear(16, 1)\n",
    "        self.sigmoid = nn.Sigmoid()\n",
    " \n",
    "    def forward(self, x):\n",
    "        x = self.act1(self.layer1(x))\n",
    "        x = self.dropout(x)\n",
    "        x = self.act2(self.layer2(x))\n",
    "        x = self.act3(self.layer3(x))\n",
    "        x = self.sigmoid(self.output(x))\n",
    "        return x"
   ]
  },
  {
   "cell_type": "code",
   "execution_count": 45,
   "metadata": {},
   "outputs": [
    {
     "name": "stdout",
     "output_type": "stream",
     "text": [
      "1153\n",
      "833\n",
      "3713\n"
     ]
    }
   ],
   "source": [
    "# Compare model sizes\n",
    "model1 = Wide()\n",
    "model2 = DeepSimple()\n",
    "model3 = DeepComplex()\n",
    "print(sum([x.reshape(-1).shape[0] for x in model1.parameters()]))  # 11161\n",
    "print(sum([x.reshape(-1).shape[0] for x in model2.parameters()]))  # 11041\n",
    "print(sum([x.reshape(-1).shape[0] for x in model3.parameters()]))  # "
   ]
  },
  {
   "cell_type": "code",
   "execution_count": 46,
   "metadata": {},
   "outputs": [],
   "source": [
    "# Helper function to train one model\n",
    "def model_train(model, X_train, y_train, X_val, y_val):\n",
    "    # loss function and optimizer\n",
    "    loss_fn = nn.BCELoss()  # binary cross entropy\n",
    "    optimizer = optim.Adam(model.parameters(), lr=0.0001)\n",
    " \n",
    "    n_epochs = 300   # number of epochs to run\n",
    "    batch_size = 10  # size of each batch\n",
    "    batch_start = torch.arange(0, len(X_train), batch_size)\n",
    " \n",
    "    # Hold the best model\n",
    "    best_acc = - np.inf   # init to negative infinity\n",
    "    best_weights = None\n",
    " \n",
    "    for epoch in range(n_epochs):\n",
    "        model.train()\n",
    "        with tqdm.tqdm(batch_start, unit=\"batch\", mininterval=0, disable=True) as bar:\n",
    "            bar.set_description(f\"Epoch {epoch}\")\n",
    "            for start in bar:\n",
    "                # take a batch\n",
    "                X_batch = X_train[start:start+batch_size]\n",
    "                y_batch = y_train[start:start+batch_size]\n",
    "                # forward pass\n",
    "                y_pred = model(X_batch)\n",
    "                loss = loss_fn(y_pred, y_batch)\n",
    "                # backward pass\n",
    "                optimizer.zero_grad()\n",
    "                loss.backward()\n",
    "                # update weights\n",
    "                optimizer.step()\n",
    "                # print progress\n",
    "                acc = (y_pred.round() == y_batch).float().mean()\n",
    "                bar.set_postfix(\n",
    "                    loss=float(loss),\n",
    "                    acc=float(acc)\n",
    "                )\n",
    "        # evaluate accuracy at end of each epoch\n",
    "        model.eval()\n",
    "        y_pred = model(X_val)\n",
    "        acc = (y_pred.round() == y_val).float().mean()\n",
    "        acc = float(acc)\n",
    "        if acc > best_acc:\n",
    "            best_acc = acc\n",
    "            best_weights = copy.deepcopy(model.state_dict())\n",
    "    # restore model and return best accuracy\n",
    "    model.load_state_dict(best_weights)\n",
    "    return best_acc"
   ]
  },
  {
   "cell_type": "code",
   "execution_count": 47,
   "metadata": {},
   "outputs": [],
   "source": [
    "# train-test split: Hold out the test set for final model evaluation\n",
    "X_train, X_test, y_train, y_test = train_test_split(X, y, train_size=0.7, shuffle=True)"
   ]
  },
  {
   "cell_type": "code",
   "execution_count": 48,
   "metadata": {},
   "outputs": [
    {
     "name": "stdout",
     "output_type": "stream",
     "text": [
      "Accuracy (wide): 0.73\n",
      "Accuracy (wide): 0.80\n",
      "Accuracy (wide): 0.90\n",
      "Accuracy (wide): 0.87\n",
      "Accuracy (wide): 0.90\n",
      "Accuracy (deep simple): 0.87\n",
      "Accuracy (deep simple): 0.93\n",
      "Accuracy (deep simple): 0.77\n",
      "Accuracy (deep simple): 0.83\n",
      "Accuracy (deep simple): 0.83\n",
      "Accuracy (deep complex): 0.70\n",
      "Accuracy (deep complex): 0.83\n",
      "Accuracy (deep complex): 0.90\n",
      "Accuracy (deep complex): 0.93\n",
      "Accuracy (deep complex): 0.83\n",
      "Wide: 84.00% (+/- 6.46%)\n",
      "Deep Simple: 84.67% (+/- 5.42%)\n",
      "Deep Complex: 84.00% (+/- 8.00%)\n"
     ]
    }
   ],
   "source": [
    "# define 5-fold cross validation test harness\n",
    "kfold = StratifiedKFold(n_splits=5, shuffle=True)\n",
    "\n",
    "cv_scores_wide = []\n",
    "for train, test in kfold.split(X_train, y_train):\n",
    "    # create model, train, and get accuracy\n",
    "    model = Wide()\n",
    "    acc = model_train(model, X_train[train], y_train[train], X_train[test], y_train[test])\n",
    "    print(\"Accuracy (wide): %.2f\" % acc)\n",
    "    cv_scores_wide.append(acc)\n",
    "\n",
    "cv_scores_deep_simple = []\n",
    "for train, test in kfold.split(X_train, y_train):\n",
    "    # create model, train, and get accuracy\n",
    "    model = DeepSimple()\n",
    "    acc = model_train(model, X_train[train], y_train[train], X_train[test], y_train[test])\n",
    "    print(\"Accuracy (deep simple): %.2f\" % acc)\n",
    "    cv_scores_deep_simple.append(acc)\n",
    "\n",
    "cv_scores_deep_complex = []\n",
    "for train, test in kfold.split(X_train, y_train):\n",
    "    # create model, train, and get accuracy\n",
    "    model = DeepComplex()\n",
    "    acc = model_train(model, X_train[train], y_train[train], X_train[test], y_train[test])\n",
    "    print(\"Accuracy (deep complex): %.2f\" % acc)\n",
    "    cv_scores_deep_complex.append(acc)\n",
    " \n",
    "# evaluate the model\n",
    "wide_acc = np.mean(cv_scores_wide)\n",
    "wide_std = np.std(cv_scores_wide)\n",
    "deep_simple_acc = np.mean(cv_scores_deep_simple)\n",
    "deep_simple_std = np.std(cv_scores_deep_simple)\n",
    "deep_complex_acc = np.mean(cv_scores_deep_complex)\n",
    "deep_complex_std = np.std(cv_scores_deep_complex)\n",
    "print(\"Wide: %.2f%% (+/- %.2f%%)\" % (wide_acc*100, wide_std*100))\n",
    "print(\"Deep Simple: %.2f%% (+/- %.2f%%)\" % (deep_simple_acc*100, deep_simple_std*100))\n",
    "print(\"Deep Complex: %.2f%% (+/- %.2f%%)\" % (deep_complex_acc*100, deep_complex_std*100))"
   ]
  },
  {
   "cell_type": "code",
   "execution_count": null,
   "metadata": {},
   "outputs": [],
   "source": []
  },
  {
   "cell_type": "code",
   "execution_count": 49,
   "metadata": {},
   "outputs": [
    {
     "name": "stdout",
     "output_type": "stream",
     "text": [
      "Retrain a deep simple model\n",
      "Final model accuracy: 90.77%\n"
     ]
    },
    {
     "data": {
      "text/plain": [
       "DeepSimple(\n",
       "  (layer1): Linear(in_features=16, out_features=16, bias=True)\n",
       "  (act1): ReLU()\n",
       "  (layer2): Linear(in_features=16, out_features=16, bias=True)\n",
       "  (act2): ReLU()\n",
       "  (layer3): Linear(in_features=16, out_features=16, bias=True)\n",
       "  (act3): ReLU()\n",
       "  (output): Linear(in_features=16, out_features=1, bias=True)\n",
       "  (sigmoid): Sigmoid()\n",
       ")"
      ]
     },
     "execution_count": 49,
     "metadata": {},
     "output_type": "execute_result"
    }
   ],
   "source": [
    "# rebuild model with full set of training data\n",
    "if wide_acc > deep_simple_acc and wide_acc > deep_complex_acc:\n",
    "    print(\"Retrain a wide model\")\n",
    "    model = Wide()\n",
    "elif deep_simple_acc > wide_acc and deep_simple_acc > deep_complex_acc:\n",
    "    print(\"Retrain a deep simple model\")\n",
    "    model = DeepSimple()\n",
    "else:\n",
    "    print(\"Retrain a deep complex model\")\n",
    "    model = DeepComplex()\n",
    "\n",
    "acc = model_train(model, X_train, y_train, X_test, y_test)\n",
    "print(f\"Final model accuracy: {acc*100:.2f}%\")\n",
    " \n",
    "model.eval()"
   ]
  },
  {
   "cell_type": "code",
   "execution_count": 50,
   "metadata": {},
   "outputs": [
    {
     "name": "stdout",
     "output_type": "stream",
     "text": [
      "[ 1.   51.    0.   54.    0.   61.    0.   60.    0.   60.64  0.    0.\n",
      "  1.    0.    0.    1.  ] -> [0.27115077] (expected [0.])\n",
      "[ 1.   74.    1.   62.    0.   68.    0.   74.    1.   57.99  0.    0.\n",
      "  1.    1.    0.    0.  ] -> [0.9077269] (expected [1.])\n",
      "[ 0.   67.    1.   70.    1.   65.    0.   88.    0.   71.96  0.    1.\n",
      "  0.    0.    1.    0.  ] -> [0.23236312] (expected [0.])\n",
      "[ 1. 70.  1. 63.  0. 70.  1. 55.  1. 62.  0.  0.  1.  0.  0.  1.] -> [0.92669857] (expected [1.])\n",
      "[ 1.   80.    0.   70.    0.   72.    0.   87.    0.   71.04  0.    0.\n",
      "  1.    0.    0.    1.  ] -> [0.6566947] (expected [1.])\n"
     ]
    },
    {
     "data": {
      "image/png": "[encoded data removed]",
      "text/plain": [
       "<Figure size 640x480 with 1 Axes>"
      ]
     },
     "metadata": {},
     "output_type": "display_data"
    }
   ],
   "source": [
    "with torch.no_grad():\n",
    "    # Test out inference with 5 samples\n",
    "    for i in range(5):\n",
    "        y_pred = model(X_test[i:i+1])\n",
    "        print(f\"{X_test[i].numpy()} -> {y_pred[0].numpy()} (expected {y_test[i].numpy()})\")\n",
    " \n",
    "    # Plot the ROC curve\n",
    "    y_pred = model(X_test)\n",
    "    fpr, tpr, thresholds = roc_curve(y_test, y_pred)\n",
    "    plt.plot(fpr, tpr) # ROC curve = TPR vs FPR\n",
    "    plt.title(\"Receiver Operating Characteristics\")\n",
    "    plt.xlabel(\"False Positive Rate\")\n",
    "    plt.ylabel(\"True Positive Rate\")\n",
    "    plt.show()"
   ]
  }
 ],
 "metadata": {
  "kernelspec": {
   "display_name": "base",
   "language": "python",
   "name": "python3"
  },
  "language_info": {
   "codemirror_mode": {
    "name": "ipython",
    "version": 3
   },
   "file_extension": ".py",
   "mimetype": "text/x-python",
   "name": "python",
   "nbconvert_exporter": "python",
   "pygments_lexer": "ipython3",
   "version": "3.7.11"
  },
  "orig_nbformat": 4
 },
 "nbformat": 4,
 "nbformat_minor": 2
}
